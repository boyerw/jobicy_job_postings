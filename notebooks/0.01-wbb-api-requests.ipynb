{
 "cells": [
  {
   "cell_type": "code",
   "execution_count": 1,
   "id": "f0e57c0c-f876-4154-b277-d0349088bf7f",
   "metadata": {},
   "outputs": [],
   "source": [
    "import os\n",
    "import subprocess\n",
    "from typing import Dict, Any, Callable\n",
    "from typing import \n",
    "\n",
    "from dotenv import load_dotenv\n",
    "import json\n",
    "import requests"
   ]
  },
  {
   "cell_type": "code",
   "execution_count": null,
   "id": "c9e7994e-a4f0-4b84-b9d4-073847a422df",
   "metadata": {},
   "outputs": [],
   "source": []
  },
  {
   "cell_type": "code",
   "execution_count": 14,
   "id": "d6a6027f-9751-4dc8-af17-a9888c3e476f",
   "metadata": {},
   "outputs": [],
   "source": [
    "def get_url(\n",
    "    title: str, \n",
    "    geo: str, \n",
    "    industry: str,\n",
    "    level: str,\n",
    "    count: int,\n",
    "    tag: str,\n",
    ") -> str:\n",
    "    url = \"https://jobicy.com/api/v2/remote-jobs?\"\n",
    "    url = url + \"&jobTitle=\" + title if title is not None else url\n",
    "    url = url + \"&jobGeo=\" + geo if geo is not None else url\n",
    "    url = url + \"&jobLevel=\" + level if level is not None else url\n",
    "    url = url + \"&jobIndustry=\" + str(industry) if industry is not None else url\n",
    "    url = url + \"&count=\" + str(count) if count is not None else url\n",
    "    url = url + \"&tag=\" + tag if tag is not None else url\n",
    "    return url\n",
    "\n",
    "def get_job_postings(\n",
    "    title = None,\n",
    "    geo = None,\n",
    "    industry = None,\n",
    "    level = None,\n",
    "    count = None,\n",
    "    tag = None,\n",
    "):\n",
    "    url = get_url(title=title, geo=geo, industry=industry, level=level, count=count, tag=tag)\n",
    "    print(url)\n",
    "    response = requests.get(url)\n",
    "    print(type(response))\n",
    "    response.raise_for_status()\n",
    "    json_response = json.loads(response.content)\n",
    "    return json_response"
   ]
  },
  {
   "cell_type": "code",
   "execution_count": 6,
   "id": "07abc97d-c438-49af-88da-47a7cdff8af1",
   "metadata": {},
   "outputs": [
    {
     "name": "stdout",
     "output_type": "stream",
     "text": [
      "<class 'requests.models.Response'>\n"
     ]
    }
   ],
   "source": [
    "response = get_job_postings()"
   ]
  },
  {
   "cell_type": "code",
   "execution_count": 7,
   "id": "9c71fb0a-8691-4472-970c-886ef6913644",
   "metadata": {},
   "outputs": [
    {
     "data": {
      "text/plain": [
       "dict_keys(['apiVersion', 'documentationUrl', 'friendlyNotice', 'jobCount', 'xRayHash', 'clientKey', 'lastUpdate', 'jobs'])"
      ]
     },
     "execution_count": 7,
     "metadata": {},
     "output_type": "execute_result"
    }
   ],
   "source": [
    "response.keys()"
   ]
  },
  {
   "cell_type": "code",
   "execution_count": 9,
   "id": "3e2606c2-ac69-4443-a4d0-8f72fc113149",
   "metadata": {},
   "outputs": [
    {
     "data": {
      "text/plain": [
       "{'id': 108743,\n",
       " 'url': 'https://jobicy.com/jobs/108743-senior-python-developer',\n",
       " 'jobSlug': '108743-senior-python-developer',\n",
       " 'jobTitle': 'Senior Python Developer',\n",
       " 'companyName': 'Lumenalta',\n",
       " 'companyLogo': 'https://jobicy.com/data/server-nyc0409/galaxy/mercury/2024/01/22ced37d-221.jpeg',\n",
       " 'jobIndustry': ['Programming'],\n",
       " 'jobType': ['full-time'],\n",
       " 'jobGeo': 'Anywhere',\n",
       " 'jobLevel': 'Senior',\n",
       " 'jobExcerpt': 'A career at Lumenalta means the freedom to continue your tech career on your terms. Build exceptional things from wherever you might be. Experience Remote done Right. Over 20 years of remote experience, all 600+ staff are 100% remote and we still grow vibrant relationships, provide exceptional opportunities for career growth while working with stellar&#8230;',\n",
       " 'jobDescription': '<p>A career at Lumenalta means the freedom to continue your tech career on your terms. Build exceptional things from wherever you might be.</p>\\n<p>Experience Remote done Right. Over 20 years of remote experience, all 600+ staff are 100% remote and we still grow vibrant relationships, provide exceptional opportunities for career growth while working with stellar clients on ambitious projects</p>\\n<h2>What we&#8217;re working on</h2>\\n<p>Enterprise companies turn to us to help them launch innovative digital products that interact with hundreds of millions of customers, transactions and data points. The problems we solve every day are real and require creativity, grit and determination. We are building a culture that challenges norms while fostering experimentation and personal growth. In order to grasp the scale of problems we face, ideally, you have some exposure to Logistics, FinTech, Transportation, Insurance, Media or other complex multifactor industries.</p>\\n<h2>Requirements</h2>\\n<ul>\\n<li>7+ years experience in a senior developer role; ideally, you have delivered business-critical software to large enterprises</li>\\n<li>4+ years hands-on experience with the Django framework</li>\\n<li>Experience with Power BI, PowerApps, and Azure</li>\\n<li>Previous experience with Django rest Framework will be advantageous</li>\\n<li>Ability to craft new API specifications and develop to provided specifications</li>\\n<li>Ability to think about long-term maintenance when creating or making changes</li>\\n<li>English fluency, verbal and written</li>\\n<li>Professional, empathic, team player</li>\\n<li>Problem solver, proactive, go-getter</li>\\n</ul>\\n<h2>Why Lumenalta is an amazing place to work at</h2>\\n<p>At Lumenalta, you can expect that you will:</p>\\n<ul>\\n<li>Be 100% dedicated to one project at a time so that you can innovate and grow.</li>\\n<li>Be a part of a team of talented and friendly senior-level developers.</li>\\n<li>Work on projects that allow you to use leading tech.</li>\\n</ul>\\n<p>The result? We produce meaningful outcomes for our clients that break barriers in their industries. The Job is 100% remote; please ensure you have a comfortable office setup at your desired work location.</p>\\n<p>Lumenalta is committed to hiring exceptional talent from a wide variety of diverse backgrounds. If you share our values and enthusiasm for digital transformation, we encourage you to apply</p>',\n",
       " 'pubDate': '2024-11-24 05:00:49'}"
      ]
     },
     "execution_count": 9,
     "metadata": {},
     "output_type": "execute_result"
    }
   ],
   "source": [
    "response['jobs'][0]"
   ]
  },
  {
   "cell_type": "code",
   "execution_count": 17,
   "id": "44dbb847-f884-4188-9e7c-4c14f9344260",
   "metadata": {},
   "outputs": [
    {
     "name": "stdout",
     "output_type": "stream",
     "text": [
      "https://jobicy.com/api/v2/remote-jobs?&jobGeo=USA&jobLevel=Any&jobIndustry=Data-Science&count=20\n",
      "<class 'requests.models.Response'>\n"
     ]
    },
    {
     "data": {
      "text/plain": [
       "dict_keys(['success', 'error'])"
      ]
     },
     "execution_count": 17,
     "metadata": {},
     "output_type": "execute_result"
    }
   ],
   "source": [
    "# This request is not working for unknown reasons\n",
    "ds_postings = get_job_postings(geo='USA', level='Any', industry='Data-Science', count=20)\n",
    "ds_postings.keys()"
   ]
  },
  {
   "cell_type": "code",
   "execution_count": null,
   "id": "17824377-a058-40db-b6c8-d033dd5743cb",
   "metadata": {},
   "outputs": [],
   "source": []
  }
 ],
 "metadata": {
  "kernelspec": {
   "display_name": "Python 3 (ipykernel)",
   "language": "python",
   "name": "python3"
  },
  "language_info": {
   "codemirror_mode": {
    "name": "ipython",
    "version": 3
   },
   "file_extension": ".py",
   "mimetype": "text/x-python",
   "name": "python",
   "nbconvert_exporter": "python",
   "pygments_lexer": "ipython3",
   "version": "3.10.15"
  }
 },
 "nbformat": 4,
 "nbformat_minor": 5
}
